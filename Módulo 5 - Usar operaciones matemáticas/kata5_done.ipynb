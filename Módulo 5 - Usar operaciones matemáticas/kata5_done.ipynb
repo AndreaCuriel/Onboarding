{
 "cells": [
  {
   "cell_type": "markdown",
   "metadata": {},
   "source": [
    "# Ejercicio1 - Utilizar operadores aritméticos\n",
    "\n",
    "### Operadores aritméticos en Python\n",
    "\n",
    "Python proporciona operadores aritméticos comunes para que puedas realizar operaciones matemáticas en tu código. Estos incluyen las cuatro operaciones principales de suma, resta, multiplicación y división.\n",
    "\n",
    "\n",
    "Exploremos cómo podemos crear un programa que pueda calcular la distancia entre dos planetas. Comenzaremos usando dos distancias de planetas: Tierra (149,597,870 km) y Júpiter (778,547,200 km)."
   ]
  },
  {
   "cell_type": "code",
   "execution_count": 2,
   "metadata": {},
   "outputs": [],
   "source": [
    "#Distancias \n",
    "TierraD=149597870\n",
    "jupiterD=778547200"
   ]
  },
  {
   "cell_type": "markdown",
   "metadata": {},
   "source": [
    "Realizar la operación\n",
    "\n",
    "Con los valores obtenidos, es el momento de añadir el código para realizar la operación. Restarás el primer planeta del segundo para determinar la distancia en kilómetros. A continuación, puedes convertir la distancia del kilómetro en millas multiplicándola por 0.621."
   ]
  },
  {
   "cell_type": "code",
   "execution_count": 8,
   "metadata": {},
   "outputs": [
    {
     "name": "stdout",
     "output_type": "stream",
     "text": [
      "La distancia entre la Tierra y jupiter es de 628949.33 km o 390577.53393 millas \n"
     ]
    }
   ],
   "source": [
    "# ditancia entre los dos en Km\n",
    "distanciaTJ=jupiterD-TierraD\n",
    "#distancia en millas (multiplicar por 0.621)\n",
    "distanciaTJ_millas=distanciaTJ*0.621\n",
    "#imprimir valores \n",
    "print(f\"La distancia entre la Tierra y jupiter es de {distanciaTJ} km o {distanciaTJ_millas} millas \")\n"
   ]
  },
  {
   "cell_type": "markdown",
   "metadata": {},
   "source": [
    "# Ejercicio 2: convierte cadenas en números y usa valores absolutos\n",
    "\n",
    "### Crear una aplicación para trabajar con números y entrada de usuario\n",
    "\n",
    "\n",
    "Con frecuencia, deberás convertir los valores de cadena en números para realizar correctamente diferentes operaciones o determinar el valor absoluto de un número.\n",
    "\n",
    "Para crear nuestra aplicación, queremos leer la distancia del sol para dos planetas, y luego mostrar la distancia entre los planetas. Haremos esto usando input para leer los valores, int para convertir a entero y luego abs para convertir el resultado en su valor absoluto.\n",
    "\n",
    "### Lee los valores\n",
    "\n",
    "\n",
    "Usando input, agrega el código para leer la distancia del sol para cada planeta, considerando 2 planetas.\n",
    "\n"
   ]
  },
  {
   "cell_type": "code",
   "execution_count": 6,
   "metadata": {},
   "outputs": [
    {
     "name": "stdout",
     "output_type": "stream",
     "text": [
      "Primera distancia: 34 km\n",
      "Segunda distancia:  54 km\n",
      "Distancia entre los planetas: 20 km\n",
      "distancia entre los planetas: 12.42 millas\n"
     ]
    }
   ],
   "source": [
    "# Entrada de datos\n",
    "DistanciaSol1=input(\"Introduce la distancia del Sol al primer Planeta: \")\n",
    "DistanciaSol2=input(\"Introduce la distancia del Sol al segundo Planeta: \")\n",
    "print(f\"Primera distancia: {DistanciaSol1} km\")\n",
    "print(f\"Segunda distancia:  {DistanciaSol2} km\")\n",
    "\n",
    "#distancia entre Planetas (usando int y abs)\n",
    "distanciaAbs=abs(int(DistanciaSol1)-int(DistanciaSol2))\n",
    "print(f\"Distancia entre los planetas: {distanciaAbs} km\")\n",
    "#distancia entre Planetas en millas \n",
    "distanciaAbs_Millas=distanciaAbs*0.621\n",
    "print(f\"distancia entre los planetas: {distanciaAbs_Millas} millas\")\n"
   ]
  }
 ],
 "metadata": {
  "interpreter": {
   "hash": "857b02abfccb975d488e7a72d34d5f2956c40971fa6538a69065a23b9b282265"
  },
  "kernelspec": {
   "display_name": "Python 3.10.2 64-bit",
   "language": "python",
   "name": "python3"
  },
  "language_info": {
   "codemirror_mode": {
    "name": "ipython",
    "version": 3
   },
   "file_extension": ".py",
   "mimetype": "text/x-python",
   "name": "python",
   "nbconvert_exporter": "python",
   "pygments_lexer": "ipython3",
   "version": "3.10.2"
  },
  "orig_nbformat": 4
 },
 "nbformat": 4,
 "nbformat_minor": 2
}
